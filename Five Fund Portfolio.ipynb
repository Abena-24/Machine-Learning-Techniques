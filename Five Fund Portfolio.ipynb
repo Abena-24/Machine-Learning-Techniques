{
 "cells": [
  {
   "cell_type": "code",
   "execution_count": 1,
   "metadata": {
    "scrolled": true
   },
   "outputs": [
    {
     "name": "stdout",
     "output_type": "stream",
     "text": [
      "PORTFOLIO WITH RANDOM WEIGHTS\n"
     ]
    }
   ],
   "source": [
    "print(\"PORTFOLIO WITH RANDOM WEIGHTS\")"
   ]
  },
  {
   "cell_type": "code",
   "execution_count": 2,
   "metadata": {},
   "outputs": [],
   "source": [
    "import pandas as pd\n",
    "import numpy as np\n",
    "%matplotlib inline\n",
    "import matplotlib.pyplot as plt\n",
    "import seaborn as sns"
   ]
  },
  {
   "cell_type": "code",
   "execution_count": 3,
   "metadata": {
    "scrolled": false
   },
   "outputs": [
    {
     "data": {
      "text/html": [
       "<div>\n",
       "<style scoped>\n",
       "    .dataframe tbody tr th:only-of-type {\n",
       "        vertical-align: middle;\n",
       "    }\n",
       "\n",
       "    .dataframe tbody tr th {\n",
       "        vertical-align: top;\n",
       "    }\n",
       "\n",
       "    .dataframe thead th {\n",
       "        text-align: right;\n",
       "    }\n",
       "</style>\n",
       "<table border=\"1\" class=\"dataframe\">\n",
       "  <thead>\n",
       "    <tr style=\"text-align: right;\">\n",
       "      <th></th>\n",
       "      <th>SCHIGPA</th>\n",
       "      <th>NORBMPP</th>\n",
       "      <th>NOGDBIG</th>\n",
       "      <th>ASHSAPM</th>\n",
       "      <th>JMRRIGH</th>\n",
       "    </tr>\n",
       "  </thead>\n",
       "  <tbody>\n",
       "    <tr>\n",
       "      <th>0</th>\n",
       "      <td>53.5000</td>\n",
       "      <td>23.3525</td>\n",
       "      <td>113.88</td>\n",
       "      <td>1.4506</td>\n",
       "      <td>14.42</td>\n",
       "    </tr>\n",
       "    <tr>\n",
       "      <th>1</th>\n",
       "      <td>53.2200</td>\n",
       "      <td>23.3815</td>\n",
       "      <td>113.69</td>\n",
       "      <td>1.4491</td>\n",
       "      <td>14.44</td>\n",
       "    </tr>\n",
       "    <tr>\n",
       "      <th>2</th>\n",
       "      <td>52.9400</td>\n",
       "      <td>23.6502</td>\n",
       "      <td>114.42</td>\n",
       "      <td>1.4491</td>\n",
       "      <td>14.45</td>\n",
       "    </tr>\n",
       "    <tr>\n",
       "      <th>3</th>\n",
       "      <td>53.0200</td>\n",
       "      <td>23.6399</td>\n",
       "      <td>114.35</td>\n",
       "      <td>1.4575</td>\n",
       "      <td>14.45</td>\n",
       "    </tr>\n",
       "    <tr>\n",
       "      <th>4</th>\n",
       "      <td>52.8400</td>\n",
       "      <td>23.6349</td>\n",
       "      <td>114.67</td>\n",
       "      <td>1.4582</td>\n",
       "      <td>14.46</td>\n",
       "    </tr>\n",
       "    <tr>\n",
       "      <th>...</th>\n",
       "      <td>...</td>\n",
       "      <td>...</td>\n",
       "      <td>...</td>\n",
       "      <td>...</td>\n",
       "      <td>...</td>\n",
       "    </tr>\n",
       "    <tr>\n",
       "      <th>621</th>\n",
       "      <td>66.6402</td>\n",
       "      <td>32.9171</td>\n",
       "      <td>127.43</td>\n",
       "      <td>1.6680</td>\n",
       "      <td>16.12</td>\n",
       "    </tr>\n",
       "    <tr>\n",
       "      <th>622</th>\n",
       "      <td>66.3498</td>\n",
       "      <td>32.9220</td>\n",
       "      <td>128.55</td>\n",
       "      <td>1.6679</td>\n",
       "      <td>16.15</td>\n",
       "    </tr>\n",
       "    <tr>\n",
       "      <th>623</th>\n",
       "      <td>65.5106</td>\n",
       "      <td>32.8074</td>\n",
       "      <td>129.09</td>\n",
       "      <td>1.6762</td>\n",
       "      <td>16.14</td>\n",
       "    </tr>\n",
       "    <tr>\n",
       "      <th>624</th>\n",
       "      <td>66.4864</td>\n",
       "      <td>32.8013</td>\n",
       "      <td>129.78</td>\n",
       "      <td>1.6754</td>\n",
       "      <td>16.19</td>\n",
       "    </tr>\n",
       "    <tr>\n",
       "      <th>625</th>\n",
       "      <td>66.4864</td>\n",
       "      <td>32.8013</td>\n",
       "      <td>130.49</td>\n",
       "      <td>1.6870</td>\n",
       "      <td>16.33</td>\n",
       "    </tr>\n",
       "  </tbody>\n",
       "</table>\n",
       "<p>626 rows × 5 columns</p>\n",
       "</div>"
      ],
      "text/plain": [
       "     SCHIGPA  NORBMPP  NOGDBIG   ASHSAPM  JMRRIGH \n",
       "0    53.5000  23.3525    113.88   1.4506     14.42\n",
       "1    53.2200  23.3815    113.69   1.4491     14.44\n",
       "2    52.9400  23.6502    114.42   1.4491     14.45\n",
       "3    53.0200  23.6399    114.35   1.4575     14.45\n",
       "4    52.8400  23.6349    114.67   1.4582     14.46\n",
       "..       ...      ...       ...      ...       ...\n",
       "621  66.6402  32.9171    127.43   1.6680     16.12\n",
       "622  66.3498  32.9220    128.55   1.6679     16.15\n",
       "623  65.5106  32.8074    129.09   1.6762     16.14\n",
       "624  66.4864  32.8013    129.78   1.6754     16.19\n",
       "625  66.4864  32.8013    130.49   1.6870     16.33\n",
       "\n",
       "[626 rows x 5 columns]"
      ]
     },
     "execution_count": 3,
     "metadata": {},
     "output_type": "execute_result"
    }
   ],
   "source": [
    "df = pd.read_csv('short.csv')\n",
    "df"
   ]
  },
  {
   "cell_type": "code",
   "execution_count": 4,
   "metadata": {
    "scrolled": true
   },
   "outputs": [
    {
     "data": {
      "text/plain": [
       "SCHIGPA     0.087622\n",
       "NORBMPP     0.136993\n",
       "NOGDBIG     0.054896\n",
       "ASHSAPM     0.060873\n",
       "JMRRIGH     0.050153\n",
       "dtype: float64"
      ]
     },
     "execution_count": 4,
     "metadata": {},
     "output_type": "execute_result"
    }
   ],
   "source": [
    "ind_er = np.log(df/df.shift(1)).mean()*252\n",
    "ind_er"
   ]
  },
  {
   "cell_type": "code",
   "execution_count": 5,
   "metadata": {
    "scrolled": false
   },
   "outputs": [
    {
     "data": {
      "text/html": [
       "<div>\n",
       "<style scoped>\n",
       "    .dataframe tbody tr th:only-of-type {\n",
       "        vertical-align: middle;\n",
       "    }\n",
       "\n",
       "    .dataframe tbody tr th {\n",
       "        vertical-align: top;\n",
       "    }\n",
       "\n",
       "    .dataframe thead th {\n",
       "        text-align: right;\n",
       "    }\n",
       "</style>\n",
       "<table border=\"1\" class=\"dataframe\">\n",
       "  <thead>\n",
       "    <tr style=\"text-align: right;\">\n",
       "      <th></th>\n",
       "      <th>SCHIGPA</th>\n",
       "      <th>NORBMPP</th>\n",
       "      <th>NOGDBIG</th>\n",
       "      <th>ASHSAPM</th>\n",
       "      <th>JMRRIGH</th>\n",
       "    </tr>\n",
       "  </thead>\n",
       "  <tbody>\n",
       "    <tr>\n",
       "      <th>SCHIGPA</th>\n",
       "      <td>1.000000</td>\n",
       "      <td>0.072608</td>\n",
       "      <td>0.014389</td>\n",
       "      <td>0.017628</td>\n",
       "      <td>0.070370</td>\n",
       "    </tr>\n",
       "    <tr>\n",
       "      <th>NORBMPP</th>\n",
       "      <td>0.072608</td>\n",
       "      <td>1.000000</td>\n",
       "      <td>0.203734</td>\n",
       "      <td>-0.017880</td>\n",
       "      <td>0.122314</td>\n",
       "    </tr>\n",
       "    <tr>\n",
       "      <th>NOGDBIG</th>\n",
       "      <td>0.014389</td>\n",
       "      <td>0.203734</td>\n",
       "      <td>1.000000</td>\n",
       "      <td>0.171686</td>\n",
       "      <td>0.417622</td>\n",
       "    </tr>\n",
       "    <tr>\n",
       "      <th>ASHSAPM</th>\n",
       "      <td>0.017628</td>\n",
       "      <td>-0.017880</td>\n",
       "      <td>0.171686</td>\n",
       "      <td>1.000000</td>\n",
       "      <td>0.333890</td>\n",
       "    </tr>\n",
       "    <tr>\n",
       "      <th>JMRRIGH</th>\n",
       "      <td>0.070370</td>\n",
       "      <td>0.122314</td>\n",
       "      <td>0.417622</td>\n",
       "      <td>0.333890</td>\n",
       "      <td>1.000000</td>\n",
       "    </tr>\n",
       "  </tbody>\n",
       "</table>\n",
       "</div>"
      ],
      "text/plain": [
       "           SCHIGPA   NORBMPP  NOGDBIG    ASHSAPM  JMRRIGH \n",
       "SCHIGPA   1.000000  0.072608  0.014389  0.017628  0.070370\n",
       "NORBMPP   0.072608  1.000000  0.203734 -0.017880  0.122314\n",
       "NOGDBIG   0.014389  0.203734  1.000000  0.171686  0.417622\n",
       "ASHSAPM   0.017628 -0.017880  0.171686  1.000000  0.333890\n",
       "JMRRIGH   0.070370  0.122314  0.417622  0.333890  1.000000"
      ]
     },
     "execution_count": 5,
     "metadata": {},
     "output_type": "execute_result"
    }
   ],
   "source": [
    "corr_matrix = df.pct_change().apply(lambda x: np.log(1+x)).corr()\n",
    "corr_matrix"
   ]
  },
  {
   "cell_type": "code",
   "execution_count": 37,
   "metadata": {},
   "outputs": [
    {
     "data": {
      "image/png": "[encoded data removed]",
      "text/plain": [
       "<Figure size 504x216 with 2 Axes>"
      ]
     },
     "metadata": {
      "needs_background": "light"
     },
     "output_type": "display_data"
    }
   ],
   "source": [
    "fig,ax = plt.subplots(figsize= (7,3))\n",
    "sns.heatmap(df.pct_change().corr(method = 'pearson'), ax=ax, cmap='afmhot_r', annot=True, fmt=\".4f\")\n",
    "#spearman\n",
    "ax.set_title('Correlations Matrix of Selected Funds')\n",
    "plt.show('images/chart1')"
   ]
  },
  {
   "cell_type": "code",
   "execution_count": 7,
   "metadata": {
    "scrolled": false
   },
   "outputs": [
    {
     "data": {
      "text/html": [
       "<div>\n",
       "<style scoped>\n",
       "    .dataframe tbody tr th:only-of-type {\n",
       "        vertical-align: middle;\n",
       "    }\n",
       "\n",
       "    .dataframe tbody tr th {\n",
       "        vertical-align: top;\n",
       "    }\n",
       "\n",
       "    .dataframe thead th {\n",
       "        text-align: right;\n",
       "    }\n",
       "</style>\n",
       "<table border=\"1\" class=\"dataframe\">\n",
       "  <thead>\n",
       "    <tr style=\"text-align: right;\">\n",
       "      <th></th>\n",
       "      <th>SCHIGPA</th>\n",
       "      <th>NORBMPP</th>\n",
       "      <th>NOGDBIG</th>\n",
       "      <th>ASHSAPM</th>\n",
       "      <th>JMRRIGH</th>\n",
       "    </tr>\n",
       "  </thead>\n",
       "  <tbody>\n",
       "    <tr>\n",
       "      <th>SCHIGPA</th>\n",
       "      <td>2.002579e-04</td>\n",
       "      <td>0.000017</td>\n",
       "      <td>8.353966e-07</td>\n",
       "      <td>0.000001</td>\n",
       "      <td>0.000004</td>\n",
       "    </tr>\n",
       "    <tr>\n",
       "      <th>NORBMPP</th>\n",
       "      <td>1.709143e-05</td>\n",
       "      <td>0.000277</td>\n",
       "      <td>1.390406e-05</td>\n",
       "      <td>-0.000002</td>\n",
       "      <td>0.000009</td>\n",
       "    </tr>\n",
       "    <tr>\n",
       "      <th>NOGDBIG</th>\n",
       "      <td>8.353966e-07</td>\n",
       "      <td>0.000014</td>\n",
       "      <td>1.683261e-05</td>\n",
       "      <td>0.000004</td>\n",
       "      <td>0.000007</td>\n",
       "    </tr>\n",
       "    <tr>\n",
       "      <th>ASHSAPM</th>\n",
       "      <td>1.401205e-06</td>\n",
       "      <td>-0.000002</td>\n",
       "      <td>3.956490e-06</td>\n",
       "      <td>0.000032</td>\n",
       "      <td>0.000008</td>\n",
       "    </tr>\n",
       "    <tr>\n",
       "      <th>JMRRIGH</th>\n",
       "      <td>4.281685e-06</td>\n",
       "      <td>0.000009</td>\n",
       "      <td>7.366983e-06</td>\n",
       "      <td>0.000008</td>\n",
       "      <td>0.000018</td>\n",
       "    </tr>\n",
       "  </tbody>\n",
       "</table>\n",
       "</div>"
      ],
      "text/plain": [
       "               SCHIGPA   NORBMPP      NOGDBIG    ASHSAPM  JMRRIGH \n",
       "SCHIGPA   2.002579e-04  0.000017  8.353966e-07  0.000001  0.000004\n",
       "NORBMPP   1.709143e-05  0.000277  1.390406e-05 -0.000002  0.000009\n",
       "NOGDBIG   8.353966e-07  0.000014  1.683261e-05  0.000004  0.000007\n",
       "ASHSAPM   1.401205e-06 -0.000002  3.956490e-06  0.000032  0.000008\n",
       "JMRRIGH   4.281685e-06  0.000009  7.366983e-06  0.000008  0.000018"
      ]
     },
     "execution_count": 7,
     "metadata": {},
     "output_type": "execute_result"
    }
   ],
   "source": [
    "cov_matrix = df.pct_change().apply(lambda x: np.log(1+x)).cov()\n",
    "cov_matrix"
   ]
  },
  {
   "cell_type": "code",
   "execution_count": 40,
   "metadata": {},
   "outputs": [
    {
     "data": {
      "image/png": "[encoded data removed]",
      "text/plain": [
       "<Figure size 504x216 with 2 Axes>"
      ]
     },
     "metadata": {
      "needs_background": "light"
     },
     "output_type": "display_data"
    }
   ],
   "source": [
    "fig,ax = plt.subplots(figsize= (7,3))\n",
    "sns.heatmap(df.pct_change().cov(), ax=ax, cmap='afmhot_r', annot=True, fmt=\".5f\")\n",
    "#spearman\n",
    "ax.set_title('Covariance Matrix of Selected Funds')\n",
    "plt.show('images/chart1')"
   ]
  },
  {
   "cell_type": "code",
   "execution_count": 9,
   "metadata": {},
   "outputs": [
    {
     "data": {
      "text/plain": [
       "SCHIGPA     0.224644\n",
       "NORBMPP     0.264060\n",
       "NOGDBIG     0.065129\n",
       "ASHSAPM     0.089166\n",
       "JMRRIGH     0.068254\n",
       "dtype: float64"
      ]
     },
     "execution_count": 9,
     "metadata": {},
     "output_type": "execute_result"
    }
   ],
   "source": [
    "ann_sd = df.pct_change().apply(lambda x: np.log(1+x)).std().apply(lambda x: x*np.sqrt(252))\n",
    "ann_sd"
   ]
  },
  {
   "cell_type": "code",
   "execution_count": 10,
   "metadata": {},
   "outputs": [
    {
     "data": {
      "text/html": [
       "<div>\n",
       "<style scoped>\n",
       "    .dataframe tbody tr th:only-of-type {\n",
       "        vertical-align: middle;\n",
       "    }\n",
       "\n",
       "    .dataframe tbody tr th {\n",
       "        vertical-align: top;\n",
       "    }\n",
       "\n",
       "    .dataframe thead th {\n",
       "        text-align: right;\n",
       "    }\n",
       "</style>\n",
       "<table border=\"1\" class=\"dataframe\">\n",
       "  <thead>\n",
       "    <tr style=\"text-align: right;\">\n",
       "      <th></th>\n",
       "      <th>Returns</th>\n",
       "      <th>Volatility</th>\n",
       "    </tr>\n",
       "  </thead>\n",
       "  <tbody>\n",
       "    <tr>\n",
       "      <th>SCHIGPA</th>\n",
       "      <td>0.087622</td>\n",
       "      <td>0.224644</td>\n",
       "    </tr>\n",
       "    <tr>\n",
       "      <th>NORBMPP</th>\n",
       "      <td>0.136993</td>\n",
       "      <td>0.264060</td>\n",
       "    </tr>\n",
       "    <tr>\n",
       "      <th>NOGDBIG</th>\n",
       "      <td>0.054896</td>\n",
       "      <td>0.065129</td>\n",
       "    </tr>\n",
       "    <tr>\n",
       "      <th>ASHSAPM</th>\n",
       "      <td>0.060873</td>\n",
       "      <td>0.089166</td>\n",
       "    </tr>\n",
       "    <tr>\n",
       "      <th>JMRRIGH</th>\n",
       "      <td>0.050153</td>\n",
       "      <td>0.068254</td>\n",
       "    </tr>\n",
       "  </tbody>\n",
       "</table>\n",
       "</div>"
      ],
      "text/plain": [
       "           Returns  Volatility\n",
       "SCHIGPA   0.087622    0.224644\n",
       "NORBMPP   0.136993    0.264060\n",
       "NOGDBIG   0.054896    0.065129\n",
       "ASHSAPM   0.060873    0.089166\n",
       "JMRRIGH   0.050153    0.068254"
      ]
     },
     "execution_count": 10,
     "metadata": {},
     "output_type": "execute_result"
    }
   ],
   "source": [
    "assets = pd.concat([ind_er, ann_sd], axis=1) # Creating a table for visualising returns and volatility of assets\n",
    "assets.columns = ['Returns', 'Volatility']\n",
    "assets"
   ]
  },
  {
   "cell_type": "code",
   "execution_count": 11,
   "metadata": {},
   "outputs": [
    {
     "data": {
      "image/png": "[encoded data removed]",
      "text/plain": [
       "<Figure size 432x288 with 1 Axes>"
      ]
     },
     "metadata": {
      "needs_background": "light"
     },
     "output_type": "display_data"
    }
   ],
   "source": [
    "import matplotlib.pyplot as plt\n",
    "x = ann_sd # RISK\n",
    "y = ind_er # Return\n",
    "plt.scatter(x, y)\n",
    "plt.show()"
   ]
  },
  {
   "cell_type": "code",
   "execution_count": 12,
   "metadata": {},
   "outputs": [],
   "source": [
    "p_ret = [] # Define an empty array for portfolio returns\n",
    "p_vol = [] # Define an empty array for portfolio volatility\n",
    "p_weights = [] # Define an empty array for asset weights\n",
    "num_assets = len(df.columns)\n",
    "num_portfolios = 10000"
   ]
  },
  {
   "cell_type": "code",
   "execution_count": 13,
   "metadata": {},
   "outputs": [],
   "source": [
    "for portfolio in range(num_portfolios):\n",
    "    weights = np.random.random(num_assets)\n",
    "    weights = weights/np.sum(weights)\n",
    "    p_weights.append(weights)\n",
    "    returns = np.dot(weights, ind_er) # Returns are the product of individual expected returns of asset and its\n",
    " # weights\n",
    "    p_ret.append(returns)\n",
    "    var = cov_matrix.mul(weights, axis=0).mul(weights, axis=1).sum().sum() # Portfolio Variance\n",
    "    sd = np.sqrt(var) #Daily standard deviation\n",
    "    ann_sd = sd*np.sqrt(252) #Annual standard deviation = volatility\n",
    "    p_vol.append(ann_sd)"
   ]
  },
  {
   "cell_type": "code",
   "execution_count": 14,
   "metadata": {},
   "outputs": [
    {
     "data": {
      "text/html": [
       "<div>\n",
       "<style scoped>\n",
       "    .dataframe tbody tr th:only-of-type {\n",
       "        vertical-align: middle;\n",
       "    }\n",
       "\n",
       "    .dataframe tbody tr th {\n",
       "        vertical-align: top;\n",
       "    }\n",
       "\n",
       "    .dataframe thead th {\n",
       "        text-align: right;\n",
       "    }\n",
       "</style>\n",
       "<table border=\"1\" class=\"dataframe\">\n",
       "  <thead>\n",
       "    <tr style=\"text-align: right;\">\n",
       "      <th></th>\n",
       "      <th>Returns</th>\n",
       "      <th>Volatility</th>\n",
       "      <th>SCHIGPAweight</th>\n",
       "      <th>NORBMPPweight</th>\n",
       "      <th>NOGDBIG weight</th>\n",
       "      <th>ASHSAPMweight</th>\n",
       "      <th>JMRRIGH weight</th>\n",
       "    </tr>\n",
       "  </thead>\n",
       "  <tbody>\n",
       "    <tr>\n",
       "      <th>0</th>\n",
       "      <td>0.078519</td>\n",
       "      <td>0.082994</td>\n",
       "      <td>0.136806</td>\n",
       "      <td>0.234821</td>\n",
       "      <td>0.149690</td>\n",
       "      <td>0.199430</td>\n",
       "      <td>0.279253</td>\n",
       "    </tr>\n",
       "    <tr>\n",
       "      <th>1</th>\n",
       "      <td>0.075847</td>\n",
       "      <td>0.074486</td>\n",
       "      <td>0.115822</td>\n",
       "      <td>0.196414</td>\n",
       "      <td>0.260350</td>\n",
       "      <td>0.285700</td>\n",
       "      <td>0.141714</td>\n",
       "    </tr>\n",
       "    <tr>\n",
       "      <th>2</th>\n",
       "      <td>0.082481</td>\n",
       "      <td>0.096611</td>\n",
       "      <td>0.010506</td>\n",
       "      <td>0.321773</td>\n",
       "      <td>0.238390</td>\n",
       "      <td>0.266839</td>\n",
       "      <td>0.162493</td>\n",
       "    </tr>\n",
       "    <tr>\n",
       "      <th>3</th>\n",
       "      <td>0.083311</td>\n",
       "      <td>0.092388</td>\n",
       "      <td>0.210395</td>\n",
       "      <td>0.250713</td>\n",
       "      <td>0.137946</td>\n",
       "      <td>0.265685</td>\n",
       "      <td>0.135261</td>\n",
       "    </tr>\n",
       "    <tr>\n",
       "      <th>4</th>\n",
       "      <td>0.065641</td>\n",
       "      <td>0.071268</td>\n",
       "      <td>0.197091</td>\n",
       "      <td>0.030019</td>\n",
       "      <td>0.032459</td>\n",
       "      <td>0.498358</td>\n",
       "      <td>0.242073</td>\n",
       "    </tr>\n",
       "  </tbody>\n",
       "</table>\n",
       "</div>"
      ],
      "text/plain": [
       "    Returns  Volatility  SCHIGPAweight  NORBMPPweight  NOGDBIG weight  \\\n",
       "0  0.078519    0.082994       0.136806       0.234821        0.149690   \n",
       "1  0.075847    0.074486       0.115822       0.196414        0.260350   \n",
       "2  0.082481    0.096611       0.010506       0.321773        0.238390   \n",
       "3  0.083311    0.092388       0.210395       0.250713        0.137946   \n",
       "4  0.065641    0.071268       0.197091       0.030019        0.032459   \n",
       "\n",
       "   ASHSAPMweight  JMRRIGH weight  \n",
       "0       0.199430        0.279253  \n",
       "1       0.285700        0.141714  \n",
       "2       0.266839        0.162493  \n",
       "3       0.265685        0.135261  \n",
       "4       0.498358        0.242073  "
      ]
     },
     "execution_count": 14,
     "metadata": {},
     "output_type": "execute_result"
    }
   ],
   "source": [
    "data = {'Returns':p_ret, 'Volatility':p_vol}\n",
    "for counter, symbol in enumerate(df.columns.tolist()):\n",
    " #print(counter, symbol)\n",
    " data[symbol+'weight'] = [w[counter] for w in p_weights]\n",
    "portfolios = pd.DataFrame(data)\n",
    "portfolios.head() # Dataframe of the 10000 portfolios created"
   ]
  },
  {
   "cell_type": "code",
   "execution_count": 15,
   "metadata": {
    "scrolled": false
   },
   "outputs": [
    {
     "data": {
      "text/plain": [
       "<AxesSubplot:xlabel='Volatility', ylabel='Returns'>"
      ]
     },
     "execution_count": 15,
     "metadata": {},
     "output_type": "execute_result"
    },
    {
     "data": {
      "image/png": "[encoded data removed]",
      "text/plain": [
       "<Figure size 360x360 with 1 Axes>"
      ]
     },
     "metadata": {
      "needs_background": "light"
     },
     "output_type": "display_data"
    }
   ],
   "source": [
    "# Plot efficient frontier\n",
    "portfolios.plot.scatter(x='Volatility', y='Returns', marker='o', s=10, alpha=0.3, grid=True, figsize=[5,5])"
   ]
  },
  {
   "cell_type": "code",
   "execution_count": 16,
   "metadata": {},
   "outputs": [
    {
     "data": {
      "text/plain": [
       "Returns           0.057502\n",
       "Volatility        0.052006\n",
       "SCHIGPAweight     0.045378\n",
       "NORBMPPweight     0.017029\n",
       "NOGDBIG weight    0.453131\n",
       "ASHSAPMweight     0.188513\n",
       "JMRRIGH weight    0.295948\n",
       "Name: 5132, dtype: float64"
      ]
     },
     "execution_count": 16,
     "metadata": {},
     "output_type": "execute_result"
    }
   ],
   "source": [
    "min_vol_port = portfolios.iloc[portfolios['Volatility'].idxmin()]\n",
    "# idxmin() gives us the minimum value in the column specified.\n",
    "min_vol_port"
   ]
  },
  {
   "cell_type": "code",
   "execution_count": 17,
   "metadata": {},
   "outputs": [
    {
     "data": {
      "text/plain": [
       "<matplotlib.collections.PathCollection at 0x1f3b9003c40>"
      ]
     },
     "execution_count": 17,
     "metadata": {},
     "output_type": "execute_result"
    },
    {
     "data": {
      "image/png": "[encoded data removed]",
      "text/plain": [
       "<Figure size 432x360 with 1 Axes>"
      ]
     },
     "metadata": {
      "needs_background": "light"
     },
     "output_type": "display_data"
    }
   ],
   "source": [
    "# plotting the minimum volatility portfolio\n",
    "plt.subplots(figsize=[6,5])\n",
    "plt.scatter(portfolios['Volatility'], portfolios['Returns'],marker='o', s=10, alpha=0.3)\n",
    "plt.scatter(min_vol_port[1], min_vol_port[0], color='r', marker='*', s=200)"
   ]
  },
  {
   "cell_type": "code",
   "execution_count": 18,
   "metadata": {},
   "outputs": [
    {
     "data": {
      "text/plain": [
       "Returns           0.063477\n",
       "Volatility        0.055150\n",
       "SCHIGPAweight     0.067803\n",
       "NORBMPPweight     0.069065\n",
       "NOGDBIG weight    0.390272\n",
       "ASHSAPMweight     0.273740\n",
       "JMRRIGH weight    0.199119\n",
       "Name: 1292, dtype: float64"
      ]
     },
     "execution_count": 18,
     "metadata": {},
     "output_type": "execute_result"
    }
   ],
   "source": [
    "# Finding the optimal portfolio\n",
    "rf = 0.01 # risk factor\n",
    "optimal_risky_port = portfolios.iloc[((portfolios['Returns']-rf)/portfolios['Volatility']).idxmax()]\n",
    "optimal_risky_port"
   ]
  },
  {
   "cell_type": "code",
   "execution_count": 19,
   "metadata": {},
   "outputs": [
    {
     "data": {
      "text/plain": [
       "<matplotlib.collections.PathCollection at 0x1f3b9070250>"
      ]
     },
     "execution_count": 19,
     "metadata": {},
     "output_type": "execute_result"
    },
    {
     "data": {
      "image/png": "[encoded data removed]",
      "text/plain": [
       "<Figure size 360x432 with 1 Axes>"
      ]
     },
     "metadata": {
      "needs_background": "light"
     },
     "output_type": "display_data"
    }
   ],
   "source": [
    "# Plotting optimal portfolio\n",
    "plt.subplots(figsize=(5, 6))\n",
    "plt.scatter(portfolios['Volatility'], portfolios['Returns'],marker='o', s=10, alpha=0.3)\n",
    "plt.scatter(min_vol_port[1], min_vol_port[0], color='r', marker='*', s=500)\n",
    "plt.scatter(optimal_risky_port[1], optimal_risky_port[0], color='g', marker='*', s=500)"
   ]
  },
  {
   "cell_type": "code",
   "execution_count": 20,
   "metadata": {},
   "outputs": [
    {
     "name": "stdout",
     "output_type": "stream",
     "text": [
      "1.2714007586857476\n"
     ]
    }
   ],
   "source": [
    "#Sharpe ratio for optimal portfolio using a rf=0.01\n",
    "\n",
    "Returns = 0.073345\n",
    "Volatility = 0.049823\n",
    "Risk_premium = 0.063345   #Risk premium = Expected return - Risk-free rate\n",
    "Sharpe = print(Risk_premium/Volatility)"
   ]
  },
  {
   "cell_type": "code",
   "execution_count": 21,
   "metadata": {},
   "outputs": [
    {
     "name": "stdout",
     "output_type": "stream",
     "text": [
      "PORTFOLIO WITH EQUAL WEIGHTS\n"
     ]
    }
   ],
   "source": [
    "print(\"PORTFOLIO WITH EQUAL WEIGHTS\")"
   ]
  },
  {
   "cell_type": "code",
   "execution_count": 22,
   "metadata": {
    "scrolled": true
   },
   "outputs": [
    {
     "data": {
      "text/html": [
       "<div>\n",
       "<style scoped>\n",
       "    .dataframe tbody tr th:only-of-type {\n",
       "        vertical-align: middle;\n",
       "    }\n",
       "\n",
       "    .dataframe tbody tr th {\n",
       "        vertical-align: top;\n",
       "    }\n",
       "\n",
       "    .dataframe thead th {\n",
       "        text-align: right;\n",
       "    }\n",
       "</style>\n",
       "<table border=\"1\" class=\"dataframe\">\n",
       "  <thead>\n",
       "    <tr style=\"text-align: right;\">\n",
       "      <th></th>\n",
       "      <th>SCHIGPA</th>\n",
       "      <th>NORBMPP</th>\n",
       "      <th>NOGDBIG</th>\n",
       "      <th>ASHSAPM</th>\n",
       "      <th>JMRRIGH</th>\n",
       "    </tr>\n",
       "  </thead>\n",
       "  <tbody>\n",
       "    <tr>\n",
       "      <th>0</th>\n",
       "      <td>53.5000</td>\n",
       "      <td>23.3525</td>\n",
       "      <td>113.88</td>\n",
       "      <td>1.4506</td>\n",
       "      <td>14.42</td>\n",
       "    </tr>\n",
       "    <tr>\n",
       "      <th>1</th>\n",
       "      <td>53.2200</td>\n",
       "      <td>23.3815</td>\n",
       "      <td>113.69</td>\n",
       "      <td>1.4491</td>\n",
       "      <td>14.44</td>\n",
       "    </tr>\n",
       "    <tr>\n",
       "      <th>2</th>\n",
       "      <td>52.9400</td>\n",
       "      <td>23.6502</td>\n",
       "      <td>114.42</td>\n",
       "      <td>1.4491</td>\n",
       "      <td>14.45</td>\n",
       "    </tr>\n",
       "    <tr>\n",
       "      <th>3</th>\n",
       "      <td>53.0200</td>\n",
       "      <td>23.6399</td>\n",
       "      <td>114.35</td>\n",
       "      <td>1.4575</td>\n",
       "      <td>14.45</td>\n",
       "    </tr>\n",
       "    <tr>\n",
       "      <th>4</th>\n",
       "      <td>52.8400</td>\n",
       "      <td>23.6349</td>\n",
       "      <td>114.67</td>\n",
       "      <td>1.4582</td>\n",
       "      <td>14.46</td>\n",
       "    </tr>\n",
       "    <tr>\n",
       "      <th>...</th>\n",
       "      <td>...</td>\n",
       "      <td>...</td>\n",
       "      <td>...</td>\n",
       "      <td>...</td>\n",
       "      <td>...</td>\n",
       "    </tr>\n",
       "    <tr>\n",
       "      <th>621</th>\n",
       "      <td>66.6402</td>\n",
       "      <td>32.9171</td>\n",
       "      <td>127.43</td>\n",
       "      <td>1.6680</td>\n",
       "      <td>16.12</td>\n",
       "    </tr>\n",
       "    <tr>\n",
       "      <th>622</th>\n",
       "      <td>66.3498</td>\n",
       "      <td>32.9220</td>\n",
       "      <td>128.55</td>\n",
       "      <td>1.6679</td>\n",
       "      <td>16.15</td>\n",
       "    </tr>\n",
       "    <tr>\n",
       "      <th>623</th>\n",
       "      <td>65.5106</td>\n",
       "      <td>32.8074</td>\n",
       "      <td>129.09</td>\n",
       "      <td>1.6762</td>\n",
       "      <td>16.14</td>\n",
       "    </tr>\n",
       "    <tr>\n",
       "      <th>624</th>\n",
       "      <td>66.4864</td>\n",
       "      <td>32.8013</td>\n",
       "      <td>129.78</td>\n",
       "      <td>1.6754</td>\n",
       "      <td>16.19</td>\n",
       "    </tr>\n",
       "    <tr>\n",
       "      <th>625</th>\n",
       "      <td>66.4864</td>\n",
       "      <td>32.8013</td>\n",
       "      <td>130.49</td>\n",
       "      <td>1.6870</td>\n",
       "      <td>16.33</td>\n",
       "    </tr>\n",
       "  </tbody>\n",
       "</table>\n",
       "<p>626 rows × 5 columns</p>\n",
       "</div>"
      ],
      "text/plain": [
       "     SCHIGPA  NORBMPP  NOGDBIG   ASHSAPM  JMRRIGH \n",
       "0    53.5000  23.3525    113.88   1.4506     14.42\n",
       "1    53.2200  23.3815    113.69   1.4491     14.44\n",
       "2    52.9400  23.6502    114.42   1.4491     14.45\n",
       "3    53.0200  23.6399    114.35   1.4575     14.45\n",
       "4    52.8400  23.6349    114.67   1.4582     14.46\n",
       "..       ...      ...       ...      ...       ...\n",
       "621  66.6402  32.9171    127.43   1.6680     16.12\n",
       "622  66.3498  32.9220    128.55   1.6679     16.15\n",
       "623  65.5106  32.8074    129.09   1.6762     16.14\n",
       "624  66.4864  32.8013    129.78   1.6754     16.19\n",
       "625  66.4864  32.8013    130.49   1.6870     16.33\n",
       "\n",
       "[626 rows x 5 columns]"
      ]
     },
     "execution_count": 22,
     "metadata": {},
     "output_type": "execute_result"
    }
   ],
   "source": [
    "Prices = pd.read_csv('short.csv')\n",
    "Prices"
   ]
  },
  {
   "cell_type": "code",
   "execution_count": 23,
   "metadata": {},
   "outputs": [
    {
     "data": {
      "text/plain": [
       "<AxesSubplot:title={'center':'Stocks daily returns'}>"
      ]
     },
     "execution_count": 23,
     "metadata": {},
     "output_type": "execute_result"
    },
    {
     "data": {
      "image/png": "[encoded data removed]",
      "text/plain": [
       "<Figure size 432x288 with 1 Axes>"
      ]
     },
     "metadata": {
      "needs_background": "light"
     },
     "output_type": "display_data"
    }
   ],
   "source": [
    "Prices.plot(title='Stocks daily returns')"
   ]
  },
  {
   "cell_type": "code",
   "execution_count": 24,
   "metadata": {},
   "outputs": [
    {
     "data": {
      "text/plain": [
       "SCHIGPA     0.087622\n",
       "NORBMPP     0.136993\n",
       "NOGDBIG     0.054896\n",
       "ASHSAPM     0.060873\n",
       "JMRRIGH     0.050153\n",
       "dtype: float64"
      ]
     },
     "execution_count": 24,
     "metadata": {},
     "output_type": "execute_result"
    }
   ],
   "source": [
    "Ann_Rets = np.log(df/df.shift(1)).mean()*252\n",
    "Ann_Rets"
   ]
  },
  {
   "cell_type": "code",
   "execution_count": 25,
   "metadata": {},
   "outputs": [
    {
     "data": {
      "text/html": [
       "<div>\n",
       "<style scoped>\n",
       "    .dataframe tbody tr th:only-of-type {\n",
       "        vertical-align: middle;\n",
       "    }\n",
       "\n",
       "    .dataframe tbody tr th {\n",
       "        vertical-align: top;\n",
       "    }\n",
       "\n",
       "    .dataframe thead th {\n",
       "        text-align: right;\n",
       "    }\n",
       "</style>\n",
       "<table border=\"1\" class=\"dataframe\">\n",
       "  <thead>\n",
       "    <tr style=\"text-align: right;\">\n",
       "      <th></th>\n",
       "      <th>SCHIGPA</th>\n",
       "      <th>NORBMPP</th>\n",
       "      <th>NOGDBIG</th>\n",
       "      <th>ASHSAPM</th>\n",
       "      <th>JMRRIGH</th>\n",
       "    </tr>\n",
       "  </thead>\n",
       "  <tbody>\n",
       "    <tr>\n",
       "      <th>0</th>\n",
       "      <td>NaN</td>\n",
       "      <td>NaN</td>\n",
       "      <td>NaN</td>\n",
       "      <td>NaN</td>\n",
       "      <td>NaN</td>\n",
       "    </tr>\n",
       "    <tr>\n",
       "      <th>1</th>\n",
       "      <td>-0.005247</td>\n",
       "      <td>0.001241</td>\n",
       "      <td>-0.001670</td>\n",
       "      <td>-0.001035</td>\n",
       "      <td>0.001386</td>\n",
       "    </tr>\n",
       "    <tr>\n",
       "      <th>2</th>\n",
       "      <td>-0.005275</td>\n",
       "      <td>0.011426</td>\n",
       "      <td>0.006400</td>\n",
       "      <td>0.000000</td>\n",
       "      <td>0.000692</td>\n",
       "    </tr>\n",
       "    <tr>\n",
       "      <th>3</th>\n",
       "      <td>0.001510</td>\n",
       "      <td>-0.000436</td>\n",
       "      <td>-0.000612</td>\n",
       "      <td>0.005780</td>\n",
       "      <td>0.000000</td>\n",
       "    </tr>\n",
       "    <tr>\n",
       "      <th>4</th>\n",
       "      <td>-0.003401</td>\n",
       "      <td>-0.000212</td>\n",
       "      <td>0.002795</td>\n",
       "      <td>0.000480</td>\n",
       "      <td>0.000692</td>\n",
       "    </tr>\n",
       "    <tr>\n",
       "      <th>...</th>\n",
       "      <td>...</td>\n",
       "      <td>...</td>\n",
       "      <td>...</td>\n",
       "      <td>...</td>\n",
       "      <td>...</td>\n",
       "    </tr>\n",
       "    <tr>\n",
       "      <th>621</th>\n",
       "      <td>0.031679</td>\n",
       "      <td>0.000900</td>\n",
       "      <td>0.000000</td>\n",
       "      <td>0.000000</td>\n",
       "      <td>0.000000</td>\n",
       "    </tr>\n",
       "    <tr>\n",
       "      <th>622</th>\n",
       "      <td>-0.004367</td>\n",
       "      <td>0.000149</td>\n",
       "      <td>0.008751</td>\n",
       "      <td>-0.000060</td>\n",
       "      <td>0.001859</td>\n",
       "    </tr>\n",
       "    <tr>\n",
       "      <th>623</th>\n",
       "      <td>-0.012729</td>\n",
       "      <td>-0.003487</td>\n",
       "      <td>0.004192</td>\n",
       "      <td>0.004964</td>\n",
       "      <td>-0.000619</td>\n",
       "    </tr>\n",
       "    <tr>\n",
       "      <th>624</th>\n",
       "      <td>0.014785</td>\n",
       "      <td>-0.000186</td>\n",
       "      <td>0.005331</td>\n",
       "      <td>-0.000477</td>\n",
       "      <td>0.003093</td>\n",
       "    </tr>\n",
       "    <tr>\n",
       "      <th>625</th>\n",
       "      <td>0.000000</td>\n",
       "      <td>0.000000</td>\n",
       "      <td>0.005456</td>\n",
       "      <td>0.006900</td>\n",
       "      <td>0.008610</td>\n",
       "    </tr>\n",
       "  </tbody>\n",
       "</table>\n",
       "<p>626 rows × 5 columns</p>\n",
       "</div>"
      ],
      "text/plain": [
       "      SCHIGPA   NORBMPP  NOGDBIG    ASHSAPM  JMRRIGH \n",
       "0         NaN       NaN       NaN       NaN       NaN\n",
       "1   -0.005247  0.001241 -0.001670 -0.001035  0.001386\n",
       "2   -0.005275  0.011426  0.006400  0.000000  0.000692\n",
       "3    0.001510 -0.000436 -0.000612  0.005780  0.000000\n",
       "4   -0.003401 -0.000212  0.002795  0.000480  0.000692\n",
       "..        ...       ...       ...       ...       ...\n",
       "621  0.031679  0.000900  0.000000  0.000000  0.000000\n",
       "622 -0.004367  0.000149  0.008751 -0.000060  0.001859\n",
       "623 -0.012729 -0.003487  0.004192  0.004964 -0.000619\n",
       "624  0.014785 -0.000186  0.005331 -0.000477  0.003093\n",
       "625  0.000000  0.000000  0.005456  0.006900  0.008610\n",
       "\n",
       "[626 rows x 5 columns]"
      ]
     },
     "execution_count": 25,
     "metadata": {},
     "output_type": "execute_result"
    }
   ],
   "source": [
    "Rets = np.log(df/df.shift(1))\n",
    "Rets"
   ]
  },
  {
   "cell_type": "code",
   "execution_count": 26,
   "metadata": {
    "scrolled": true
   },
   "outputs": [
    {
     "data": {
      "text/plain": [
       "SCHIGPA     0.000348\n",
       "NORBMPP     0.000544\n",
       "NOGDBIG     0.000218\n",
       "ASHSAPM     0.000242\n",
       "JMRRIGH     0.000199\n",
       "dtype: float64"
      ]
     },
     "execution_count": 26,
     "metadata": {},
     "output_type": "execute_result"
    }
   ],
   "source": [
    "AvgRets = np.log(df/df.shift(1)).mean()\n",
    "AvgRets"
   ]
  },
  {
   "cell_type": "code",
   "execution_count": 27,
   "metadata": {},
   "outputs": [
    {
     "data": {
      "text/plain": [
       "SCHIGPA     0.087622\n",
       "NORBMPP     0.136993\n",
       "NOGDBIG     0.054896\n",
       "ASHSAPM     0.060873\n",
       "JMRRIGH     0.050153\n",
       "dtype: float64"
      ]
     },
     "execution_count": 27,
     "metadata": {},
     "output_type": "execute_result"
    }
   ],
   "source": [
    "Ann = np.log(df/df.shift(1)).mean() *252\n",
    "Ann"
   ]
  },
  {
   "cell_type": "code",
   "execution_count": 28,
   "metadata": {
    "scrolled": true
   },
   "outputs": [
    {
     "data": {
      "text/html": [
       "<div>\n",
       "<style scoped>\n",
       "    .dataframe tbody tr th:only-of-type {\n",
       "        vertical-align: middle;\n",
       "    }\n",
       "\n",
       "    .dataframe tbody tr th {\n",
       "        vertical-align: top;\n",
       "    }\n",
       "\n",
       "    .dataframe thead th {\n",
       "        text-align: right;\n",
       "    }\n",
       "</style>\n",
       "<table border=\"1\" class=\"dataframe\">\n",
       "  <thead>\n",
       "    <tr style=\"text-align: right;\">\n",
       "      <th></th>\n",
       "      <th>SCHIGPA</th>\n",
       "      <th>NORBMPP</th>\n",
       "      <th>NOGDBIG</th>\n",
       "      <th>ASHSAPM</th>\n",
       "      <th>JMRRIGH</th>\n",
       "    </tr>\n",
       "  </thead>\n",
       "  <tbody>\n",
       "    <tr>\n",
       "      <th>SCHIGPA</th>\n",
       "      <td>2.002579e-04</td>\n",
       "      <td>0.000017</td>\n",
       "      <td>8.353966e-07</td>\n",
       "      <td>0.000001</td>\n",
       "      <td>0.000004</td>\n",
       "    </tr>\n",
       "    <tr>\n",
       "      <th>NORBMPP</th>\n",
       "      <td>1.709143e-05</td>\n",
       "      <td>0.000277</td>\n",
       "      <td>1.390406e-05</td>\n",
       "      <td>-0.000002</td>\n",
       "      <td>0.000009</td>\n",
       "    </tr>\n",
       "    <tr>\n",
       "      <th>NOGDBIG</th>\n",
       "      <td>8.353966e-07</td>\n",
       "      <td>0.000014</td>\n",
       "      <td>1.683261e-05</td>\n",
       "      <td>0.000004</td>\n",
       "      <td>0.000007</td>\n",
       "    </tr>\n",
       "    <tr>\n",
       "      <th>ASHSAPM</th>\n",
       "      <td>1.401205e-06</td>\n",
       "      <td>-0.000002</td>\n",
       "      <td>3.956490e-06</td>\n",
       "      <td>0.000032</td>\n",
       "      <td>0.000008</td>\n",
       "    </tr>\n",
       "    <tr>\n",
       "      <th>JMRRIGH</th>\n",
       "      <td>4.281685e-06</td>\n",
       "      <td>0.000009</td>\n",
       "      <td>7.366983e-06</td>\n",
       "      <td>0.000008</td>\n",
       "      <td>0.000018</td>\n",
       "    </tr>\n",
       "  </tbody>\n",
       "</table>\n",
       "</div>"
      ],
      "text/plain": [
       "               SCHIGPA   NORBMPP      NOGDBIG    ASHSAPM  JMRRIGH \n",
       "SCHIGPA   2.002579e-04  0.000017  8.353966e-07  0.000001  0.000004\n",
       "NORBMPP   1.709143e-05  0.000277  1.390406e-05 -0.000002  0.000009\n",
       "NOGDBIG   8.353966e-07  0.000014  1.683261e-05  0.000004  0.000007\n",
       "ASHSAPM   1.401205e-06 -0.000002  3.956490e-06  0.000032  0.000008\n",
       "JMRRIGH   4.281685e-06  0.000009  7.366983e-06  0.000008  0.000018"
      ]
     },
     "execution_count": 28,
     "metadata": {},
     "output_type": "execute_result"
    }
   ],
   "source": [
    "cov_matrix = Prices.pct_change().apply(lambda x: np.log(1+x)).cov()\n",
    "cov_matrix"
   ]
  },
  {
   "cell_type": "code",
   "execution_count": 29,
   "metadata": {},
   "outputs": [
    {
     "name": "stdout",
     "output_type": "stream",
     "text": [
      "2.168591458864765e-05\n",
      "0.005464850476339208\n"
     ]
    }
   ],
   "source": [
    "# Randomly weighted portfolio's variance\n",
    "w = {'SCHIGPA':0.20,'NORBMPP':0.20,'NOGDBIG':0.20,'ASHSAPM':0.20,'JMRRIGH':0.20}\n",
    "port_var = cov_matrix.mul(w, axis=0).mul(w, axis=1).sum().sum()\n",
    "Ann_port_std = (port_var*252)**(0.5)\n",
    "print (port_var)\n",
    "print (port_var*252)"
   ]
  },
  {
   "cell_type": "code",
   "execution_count": 30,
   "metadata": {
    "scrolled": true
   },
   "outputs": [
    {
     "data": {
      "text/plain": [
       "0.0739246269949278"
      ]
     },
     "execution_count": 30,
     "metadata": {},
     "output_type": "execute_result"
    }
   ],
   "source": [
    "Ann_port_std"
   ]
  },
  {
   "cell_type": "code",
   "execution_count": 31,
   "metadata": {},
   "outputs": [
    {
     "data": {
      "text/plain": [
       "0.07810738091727591"
      ]
     },
     "execution_count": 31,
     "metadata": {},
     "output_type": "execute_result"
    }
   ],
   "source": [
    "w = [0.20, 0.20, 0.20, 0.20, 0.20]\n",
    "port_er = (w*Ann).sum()\n",
    "port_er"
   ]
  },
  {
   "cell_type": "code",
   "execution_count": 32,
   "metadata": {
    "scrolled": true
   },
   "outputs": [
    {
     "name": "stdout",
     "output_type": "stream",
     "text": [
      "1.392598756400878\n"
     ]
    }
   ],
   "source": [
    "#Sharpe ratio for optimal portfolio using a rf=0.01\n",
    "\n",
    "Returns = 0.06330311\n",
    "Volatility = 0.038276\n",
    "Risk_premium = 0.05330311   #Risk premium = Expected return - Risk-free rate\n",
    "Sharpe = print(Risk_premium/Volatility)"
   ]
  },
  {
   "cell_type": "code",
   "execution_count": null,
   "metadata": {},
   "outputs": [],
   "source": []
  },
  {
   "cell_type": "code",
   "execution_count": null,
   "metadata": {},
   "outputs": [],
   "source": []
  }
 ],
 "metadata": {
  "kernelspec": {
   "display_name": "Python 3 (ipykernel)",
   "language": "python",
   "name": "python3"
  },
  "language_info": {
   "codemirror_mode": {
    "name": "ipython",
    "version": 3
   },
   "file_extension": ".py",
   "mimetype": "text/x-python",
   "name": "python",
   "nbconvert_exporter": "python",
   "pygments_lexer": "ipython3",
   "version": "3.9.7"
  }
 },
 "nbformat": 4,
 "nbformat_minor": 4
}
